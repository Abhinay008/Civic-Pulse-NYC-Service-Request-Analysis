{
 "cells": [
  {
   "cell_type": "code",
   "execution_count": null,
   "id": "17ca2362",
   "metadata": {},
   "outputs": [
    {
     "name": "stdout",
     "output_type": "stream",
     "text": [
      "Searching for CSV (.csv) files in: C:\\Users\\user\\Downloads\\NYC_2024\n",
      "Found 6 files. Combining now...\n",
      "Files combined successfully!\n",
      "\n",
      "--- Initial Data Diagnosis ---\n",
      "<class 'pandas.core.frame.DataFrame'>\n",
      "RangeIndex: 750801 entries, 0 to 750800\n",
      "Data columns (total 42 columns):\n",
      " #   Column                          Non-Null Count   Dtype  \n",
      "---  ------                          --------------   -----  \n",
      " 0   Unique Key                      750801 non-null  int64  \n",
      " 1   Created Date                    750801 non-null  object \n",
      " 2   Closed Date                     741825 non-null  object \n",
      " 3   Agency                          750801 non-null  object \n",
      " 4   Agency Name                     750801 non-null  object \n",
      " 5   Complaint Type                  750801 non-null  object \n",
      " 6   Descriptor                      734341 non-null  object \n",
      " 7   Location Type                   661871 non-null  object \n",
      " 8   Incident Zip                    742500 non-null  object \n",
      " 9   Incident Address                722257 non-null  object \n",
      " 10  Street Name                     722238 non-null  object \n",
      " 11  Cross Street 1                  489973 non-null  object \n",
      " 12  Cross Street 2                  489826 non-null  object \n",
      " 13  Intersection Street 1           463530 non-null  object \n",
      " 14  Intersection Street 2           463729 non-null  object \n",
      " 15  Address Type                    747336 non-null  object \n",
      " 16  City                            721139 non-null  object \n",
      " 17  Landmark                        412863 non-null  object \n",
      " 18  Facility Type                   3868 non-null    object \n",
      " 19  Status                          750801 non-null  object \n",
      " 20  Due Date                        4196 non-null    object \n",
      " 21  Resolution Description          739683 non-null  object \n",
      " 22  Resolution Action Updated Date  749293 non-null  object \n",
      " 23  Community Board                 750801 non-null  object \n",
      " 24  BBL                             675688 non-null  object \n",
      " 25  Borough                         750801 non-null  object \n",
      " 26  X Coordinate (State Plane)      738162 non-null  object \n",
      " 27  Y Coordinate (State Plane)      738263 non-null  float64\n",
      " 28  Open Data Channel Type          750801 non-null  object \n",
      " 29  Park Facility Name              750434 non-null  object \n",
      " 30  Park Borough                    750801 non-null  object \n",
      " 31  Vehicle Type                    37337 non-null   object \n",
      " 32  Taxi Company Borough            664 non-null     object \n",
      " 33  Taxi Pick Up Location           8729 non-null    object \n",
      " 34  Bridge Highway Name             5384 non-null    object \n",
      " 35  Bridge Highway Direction        3108 non-null    object \n",
      " 36  Road Ramp                       2362 non-null    object \n",
      " 37  Bridge Highway Segment          5375 non-null    object \n",
      " 38  Latitude                        738150 non-null  float64\n",
      " 39  Longitude                       738150 non-null  float64\n",
      " 40  Location                        738150 non-null  object \n",
      " 41  Unnamed: 41                     1 non-null       object \n",
      "dtypes: float64(3), int64(1), object(38)\n",
      "memory usage: 240.6+ MB\n",
      "\n",
      "--- Missing Values Count ---\n",
      "Unique Key                             0\n",
      "Created Date                           0\n",
      "Closed Date                         8976\n",
      "Agency                                 0\n",
      "Agency Name                            0\n",
      "Complaint Type                         0\n",
      "Descriptor                         16460\n",
      "Location Type                      88930\n",
      "Incident Zip                        8301\n",
      "Incident Address                   28544\n",
      "Street Name                        28563\n",
      "Cross Street 1                    260828\n",
      "Cross Street 2                    260975\n",
      "Intersection Street 1             287271\n",
      "Intersection Street 2             287072\n",
      "Address Type                        3465\n",
      "City                               29662\n",
      "Landmark                          337938\n",
      "Facility Type                     746933\n",
      "Status                                 0\n",
      "Due Date                          746605\n",
      "Resolution Description             11118\n",
      "Resolution Action Updated Date      1508\n",
      "Community Board                        0\n",
      "BBL                                75113\n",
      "Borough                                0\n",
      "X Coordinate (State Plane)         12639\n",
      "Y Coordinate (State Plane)         12538\n",
      "Open Data Channel Type                 0\n",
      "Park Facility Name                   367\n",
      "Park Borough                           0\n",
      "Vehicle Type                      713464\n",
      "Taxi Company Borough              750137\n",
      "Taxi Pick Up Location             742072\n",
      "Bridge Highway Name               745417\n",
      "Bridge Highway Direction          747693\n",
      "Road Ramp                         748439\n",
      "Bridge Highway Segment            745426\n",
      "Latitude                           12651\n",
      "Longitude                          12651\n",
      "Location                           12651\n",
      "Unnamed: 41                       750800\n",
      "dtype: int64\n"
     ]
    }
   ],
   "source": [
    "import pandas as pd\n",
    "import glob\n",
    "import os\n",
    "\n",
    "path = r'C:\\Users\\user\\Downloads\\NYC_2024'\n",
    "\n",
    "print(f\"Searching for CSV (.csv) files in: {path}\")\n",
    "all_files = glob.glob(os.path.join(path, \"*.csv\")) \n",
    "\n",
    "if not all_files:\n",
    "    print(\"\\n--- ERROR ---\")\n",
    "    print(\"No CSV (.csv) files were found in the specified directory.\")\n",
    "    print(\"Please double-check that your CSV files are in the NYC_2024 folder.\")\n",
    "else:\n",
    "    print(f\"Found {len(all_files)} files. Combining now...\")\n",
    "    li = []\n",
    "    for filename in all_files:\n",
    "        df_chunk = pd.read_csv(filename, index_col=None, header=0, low_memory=False)\n",
    "        li.append(df_chunk)\n",
    "\n",
    "    df = pd.concat(li, axis=0, ignore_index=True)\n",
    "    print(\"Files combined successfully!\")\n",
    "    print(\"\\n--- Initial Data Diagnosis ---\")\n",
    "    \n",
    "    df.info()\n",
    "    print(\"\\n--- Missing Values Count ---\")\n",
    "    print(df.isnull().sum())"
   ]
  },
  {
   "cell_type": "code",
   "execution_count": null,
   "id": "2695854d",
   "metadata": {},
   "outputs": [
    {
     "name": "stderr",
     "output_type": "stream",
     "text": [
      "C:\\Users\\user\\AppData\\Local\\Temp\\ipykernel_14668\\3042999796.py:3: UserWarning: Could not infer format, so each element will be parsed individually, falling back to `dateutil`. To ensure parsing is consistent and as-expected, please specify a format.\n",
      "  df['Created Date'] = pd.to_datetime(df['Created Date'], errors='coerce')\n"
     ]
    }
   ],
   "source": [
    "df['Created Date'] = pd.to_datetime(df['Created Date'], errors='coerce')\n",
    "df['Closed Date'] = pd.to_datetime(df['Closed Date'], errors='coerce')"
   ]
  },
  {
   "cell_type": "code",
   "execution_count": null,
   "id": "4bb5a1bf",
   "metadata": {},
   "outputs": [
    {
     "name": "stdout",
     "output_type": "stream",
     "text": [
      "Dropping unnecessary columns...\n",
      "Columns dropped successfully.\n",
      "\n",
      "Creating 'Resolution Time' column...\n",
      "'Resolution Time' created successfully.\n",
      "\n",
      "--- First 5 Rows with Resolution Time ---\n",
      "         Created Date         Closed Date Resolution Time\n",
      "0 2024-01-15 23:59:59 2024-01-17 09:23:12 1 days 09:23:13\n",
      "1 2024-01-15 23:59:45 2024-01-17 18:41:04 1 days 18:41:19\n",
      "2 2024-01-15 23:59:44 2024-01-17 14:16:30 1 days 14:16:46\n",
      "3 2024-01-15 23:59:39 2024-01-17 14:17:06 1 days 14:17:27\n",
      "4 2024-01-15 23:59:38 2024-01-16 00:39:45 0 days 00:40:07\n",
      "\n",
      "--- Updated Data Info ---\n",
      "<class 'pandas.core.frame.DataFrame'>\n",
      "RangeIndex: 750801 entries, 0 to 750800\n",
      "Data columns (total 25 columns):\n",
      " #   Column                          Non-Null Count   Dtype          \n",
      "---  ------                          --------------   -----          \n",
      " 0   Unique Key                      750801 non-null  int64          \n",
      " 1   Created Date                    750800 non-null  datetime64[ns] \n",
      " 2   Closed Date                     438081 non-null  datetime64[ns] \n",
      " 3   Agency                          750801 non-null  object         \n",
      " 4   Agency Name                     750801 non-null  object         \n",
      " 5   Complaint Type                  750801 non-null  object         \n",
      " 6   Descriptor                      734341 non-null  object         \n",
      " 7   Location Type                   661871 non-null  object         \n",
      " 8   Incident Zip                    742500 non-null  object         \n",
      " 9   Incident Address                722257 non-null  object         \n",
      " 10  Street Name                     722238 non-null  object         \n",
      " 11  Address Type                    747336 non-null  object         \n",
      " 12  City                            721139 non-null  object         \n",
      " 13  Landmark                        412863 non-null  object         \n",
      " 14  Facility Type                   3868 non-null    object         \n",
      " 15  Status                          750801 non-null  object         \n",
      " 16  Due Date                        4196 non-null    object         \n",
      " 17  Resolution Description          739683 non-null  object         \n",
      " 18  Resolution Action Updated Date  749293 non-null  object         \n",
      " 19  Community Board                 750801 non-null  object         \n",
      " 20  Borough                         750801 non-null  object         \n",
      " 21  Open Data Channel Type          750801 non-null  object         \n",
      " 22  Park Facility Name              750434 non-null  object         \n",
      " 23  Park Borough                    750801 non-null  object         \n",
      " 24  Resolution Time                 438080 non-null  timedelta64[ns]\n",
      "dtypes: datetime64[ns](2), int64(1), object(21), timedelta64[ns](1)\n",
      "memory usage: 143.2+ MB\n"
     ]
    }
   ],
   "source": [
    "print(\"Dropping unnecessary columns...\")\n",
    "columns_to_drop = [\n",
    "    'Unnamed: 41', 'Cross Street 1', 'Cross Street 2', \n",
    "    'Intersection Street 1', 'Intersection Street 2', 'BBL',\n",
    "    'X Coordinate (State Plane)', 'Y Coordinate (State Plane)', 'Latitude', \n",
    "    'Longitude', 'Location', 'Vehicle Type', 'Taxi Company Borough', \n",
    "    'Taxi Pick Up Location', 'Bridge Highway Name', 'Bridge Highway Direction', \n",
    "    'Road Ramp', 'Bridge Highway Segment'\n",
    "]\n",
    "df.drop(columns=columns_to_drop, inplace=True)\n",
    "print(\"Columns dropped successfully.\")\n",
    "\n",
    "print(\"\\nCreating 'Resolution Time' column...\")\n",
    "df['Resolution Time'] = df['Closed Date'] - df['Created Date']\n",
    "print(\"'Resolution Time' created successfully.\")\n",
    "\n",
    "print(\"\\n--- First 5 Rows with Resolution Time ---\")\n",
    "print(df[['Created Date', 'Closed Date', 'Resolution Time']].head())\n",
    "\n",
    "print(\"\\n--- Updated Data Info ---\")\n",
    "df.info()"
   ]
  },
  {
   "cell_type": "code",
   "execution_count": null,
   "id": "671b17e6",
   "metadata": {},
   "outputs": [
    {
     "name": "stdout",
     "output_type": "stream",
     "text": [
      "--- Top 10 Complaint Types ---\n",
      "Complaint Type\n",
      "Illegal Parking            116050\n",
      "HEAT/HOT WATER             100799\n",
      "Noise - Residential         64785\n",
      "Blocked Driveway            40667\n",
      "UNSANITARY CONDITION        26751\n",
      "Street Condition            17921\n",
      "Abandoned Vehicle           16627\n",
      "PAINT/PLASTER               16448\n",
      "PLUMBING                    16296\n",
      "Noise - Street/Sidewalk     15085\n",
      "Name: count, dtype: int64\n"
     ]
    }
   ],
   "source": [
    "top_10_complaints = df['Complaint Type'].value_counts().head(10)\n",
    "print(\"--- Top 10 Complaint Types ---\")\n",
    "print(top_10_complaints)"
   ]
  },
  {
   "cell_type": "code",
   "execution_count": null,
   "id": "6b709d80",
   "metadata": {},
   "outputs": [
    {
     "name": "stdout",
     "output_type": "stream",
     "text": [
      "\n",
      "--- Top 10 Busiest Agencies ---\n",
      "Agency Name\n",
      "New York City Police Department                       299521\n",
      "Department of Housing Preservation and Development    216015\n",
      "Department of Sanitation                               61944\n",
      "Department of Transportation                           50451\n",
      "Department of Environmental Protection                 36008\n",
      "Department of Buildings                                23613\n",
      "Department of Parks and Recreation                     18917\n",
      "Department of Health and Mental Hygiene                18042\n",
      "Taxi and Limousine Commission                           8345\n",
      "Department of Homeless Services                         6808\n",
      "Name: count, dtype: int64\n"
     ]
    }
   ],
   "source": [
    "top_10_agencies = df['Agency Name'].value_counts().head(10)\n",
    "print(\"\\n--- Top 10 Busiest Agencies ---\")\n",
    "print(top_10_agencies)"
   ]
  },
  {
   "cell_type": "code",
   "execution_count": null,
   "id": "5cd29078",
   "metadata": {},
   "outputs": [
    {
     "name": "stdout",
     "output_type": "stream",
     "text": [
      "\n",
      "--- Average Resolution Time ---\n",
      "12 days 12:07:26.374066381\n"
     ]
    }
   ],
   "source": [
    "average_resolution_time = df['Resolution Time'].mean()\n",
    "print(f\"\\n--- Average Resolution Time ---\")\n",
    "print(average_resolution_time)"
   ]
  },
  {
   "cell_type": "code",
   "execution_count": null,
   "id": "2e87e04e",
   "metadata": {},
   "outputs": [
    {
     "name": "stdout",
     "output_type": "stream",
     "text": [
      "\n",
      "--- Top 5 Boroughs by Complaint Volume ---\n",
      "Borough\n",
      "BROOKLYN         233354\n",
      "QUEENS           180017\n",
      "MANHATTAN        156645\n",
      "BRONX            154244\n",
      "STATEN ISLAND     25962\n",
      "Name: count, dtype: int64\n"
     ]
    }
   ],
   "source": [
    "top_5_boroughs = df['Borough'].value_counts().head(5)\n",
    "print(\"\\n--- Top 5 Boroughs by Complaint Volume ---\")\n",
    "print(top_5_boroughs)"
   ]
  },
  {
   "cell_type": "code",
   "execution_count": null,
   "id": "d21b5e09",
   "metadata": {},
   "outputs": [
    {
     "name": "stdout",
     "output_type": "stream",
     "text": [
      "\n",
      "Cleaned data has been saved to NYC_311_Q1_2024_Cleaned.csv\n"
     ]
    }
   ],
   "source": [
    "df.to_csv('NYC_311_Q1_2024_Cleaned.csv', index=False)\n",
    "\n",
    "print(\"\\nCleaned data has been saved to NYC_311_Q1_2024_Cleaned.csv\")"
   ]
  },
  {
   "cell_type": "code",
   "execution_count": null,
   "id": "97e9888e",
   "metadata": {},
   "outputs": [
    {
     "name": "stdout",
     "output_type": "stream",
     "text": [
      "Loading data into SQL database: NYC_Data.db...\n"
     ]
    },
    {
     "name": "stderr",
     "output_type": "stream",
     "text": [
      "C:\\Users\\user\\AppData\\Local\\Temp\\ipykernel_14668\\3973480551.py:18: UserWarning: the 'timedelta' type is not supported, and will be written as integer values (ns frequency) to the database.\n",
      "  df.to_sql(table_name, conn, if_exists='replace', index=False)\n"
     ]
    },
    {
     "name": "stdout",
     "output_type": "stream",
     "text": [
      "Data successfully loaded into SQL database.\n"
     ]
    }
   ],
   "source": [
    "import sqlite3\n",
    "\n",
    "db_file_name = 'NYC_Data.db'\n",
    "\n",
    "table_name = 'Complaints_2024_Q1'\n",
    "\n",
    "print(f\"Loading data into SQL database: {db_file_name}...\")\n",
    "\n",
    "conn = sqlite3.connect(db_file_name)\n",
    "\n",
    "df.to_sql(table_name, conn, if_exists='replace', index=False)\n",
    "\n",
    "conn.close()\n",
    "\n",
    "print(\"Data successfully loaded into SQL database.\")"
   ]
  },
  {
   "cell_type": "code",
   "execution_count": null,
   "id": "8a890f6c",
   "metadata": {},
   "outputs": [],
   "source": []
  }
 ],
 "metadata": {
  "kernelspec": {
   "display_name": "Python 3",
   "language": "python",
   "name": "python3"
  },
  "language_info": {
   "codemirror_mode": {
    "name": "ipython",
    "version": 3
   },
   "file_extension": ".py",
   "mimetype": "text/x-python",
   "name": "python",
   "nbconvert_exporter": "python",
   "pygments_lexer": "ipython3",
   "version": "3.11.9"
  }
 },
 "nbformat": 4,
 "nbformat_minor": 5
}
